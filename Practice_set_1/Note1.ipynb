{
 "cells": [
  {
   "cell_type": "markdown",
   "metadata": {},
   "source": [
    "### Hello World in Mojo"
   ]
  },
  {
   "cell_type": "code",
   "execution_count": 1,
   "metadata": {},
   "outputs": [
    {
     "name": "stdout",
     "output_type": "stream",
     "text": [
      "Lets Play With Mojo\n"
     ]
    }
   ],
   "source": [
    "fn my_fun():\n",
    "    print(\"Lets Play With Mojo\")\n",
    "my_fun()"
   ]
  },
  {
   "cell_type": "markdown",
   "metadata": {},
   "source": [
    "## Let's see Mojo"
   ]
  },
  {
   "cell_type": "markdown",
   "metadata": {},
   "source": [
    "### Working with Function"
   ]
  },
  {
   "cell_type": "markdown",
   "metadata": {},
   "source": [
    "In Mojo there are two types of key word are used to define function \n",
    "1. \n",
    "```mojo\n",
    " def  fn\n",
    "```\n"
   ]
  },
  {
   "cell_type": "code",
   "execution_count": 14,
   "metadata": {},
   "outputs": [],
   "source": [
    "def add_str(a, b):\n",
    "    return (a + b)\n",
    "add_str(\"df_sdgf\",\"  898\")"
   ]
  },
  {
   "cell_type": "code",
   "execution_count": 32,
   "metadata": {},
   "outputs": [
    {
     "name": "stderr",
     "output_type": "stream",
     "text": [
      "error: \u001b[0;1;31m\u001b[1mExpression [32]:4:43: \u001b[0m\u001b[1mcannot form a reference to overloaded declaration of 'int'\n",
      "\u001b[0m    if random.randint[DType](DTypePointer[int, 0],1,0,5) :\n",
      "\u001b[0;1;32m                                          ^~~\n",
      "\u001b[0m\u001b[0m\n",
      "\u001b[0;1;30m\u001b[1mExpression [0]:1:1: \u001b[0m\u001b[1mcandidate declared here\n",
      "\u001b[0mvar __lldb_repl_python__ = __mojo_repl_Python()\n",
      "\u001b[0;1;32m^\n",
      "\u001b[0m\u001b[0m\n",
      "\u001b[0;1;30m\u001b[1mExpression [0]:1:1: \u001b[0m\u001b[1mcandidate declared here\n",
      "\u001b[0mvar __lldb_repl_python__ = __mojo_repl_Python()\n",
      "\u001b[0;1;32m^\n",
      "\u001b[0m\u001b[0m\n",
      "expression failed to parse (no further compiler diagnostics)"
     ]
    }
   ],
   "source": [
    "import random \n",
    "let a=0\n",
    "while(True):\n",
    "    if random.randint[DType](DTypePointer[int, 0],1,0,5) :\n",
    "        break\n",
    "    \n",
    "print(a)"
   ]
  },
  {
   "cell_type": "markdown",
   "metadata": {},
   "source": []
  }
 ],
 "metadata": {
  "kernelspec": {
   "display_name": "Mojo",
   "language": "mojo",
   "name": "mojo-jupyter-kernel"
  },
  "language_info": {
   "codemirror_mode": {
    "name": "mojo"
   },
   "file_extension": ".mojo",
   "mimetype": "text/x-mojo",
   "name": "mojo"
  }
 },
 "nbformat": 4,
 "nbformat_minor": 2
}
